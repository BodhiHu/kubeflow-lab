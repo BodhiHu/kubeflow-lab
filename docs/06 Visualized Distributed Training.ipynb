{
 "cells": [
  {
   "attachments": {},
   "cell_type": "markdown",
   "id": "1adfabf6-bc94-4c2a-a671-454022ae3626",
   "metadata": {},
   "source": [
    "# 可视化分布式训练\n",
    "\n",
    "这个例子演示了使用可视化拖拽方式，完成非侵入式的分布式训练任务开发、提交。相对于 Kubeflow TFJob 方式，具有如下优点：\n",
    "\n",
    "- 训练任务开发和提交时，不需要了解集群详情和容器相关知识（运行时镜像由平台管理员提前准备完成）\n",
    "- 可以将完整的项目文件夹，包含多个文件夹、.py 文件的项目工程作为训练代码\n",
    "- 可以将分布式训练任务编排在工作流任务内\n",
    "- 指定输出文件即可输出模型到 S3\n",
    "- 代码可以是 .py 或 .ipynb 文件\n",
    "\n",
    "***此方式目前支持 Tensorflow/Pytorch 分布式训练，其他分布式训练需求会逐步推出***\n",
    "\n",
    "本示例中相关代码在 `src` 目录下。\n",
    "\n",
    "## Tensorflow 分布式训练\n",
    "\n",
    "参考 `06tf-dist-train.pipeline`，将分布式训练代码拖拽到编辑框中，并配置任务的：\n",
    "\n",
    "- 运行资源（GPU训练需要使用支持 GPU 的镜像，示例中均为非GPU 运行时镜像）\n",
    "- 分布式训练节点个数\n",
    "- 输出的文件\n",
    "- 环境变量（配置模型训练的超参数等配置）\n",
    "\n",
    "<img src=\"attachment:04e85f83-57de-4c56-9cda-09e501859ab9.png\" width=\"600\"/>\n",
    "\n",
    "配置完成后点击运行即可提交工作流开始运行。执行成功可以看到如下的执行状态：\n",
    "\n",
    "<img src=\"attachment:de6560e2-8dae-43e9-93f6-d5287ec45c1e.png\" width=\"600\"/>\n",
    "\n",
    "\n",
    "## Pytorch 分布式训练\n",
    "\n",
    "同上，参考 `06pytorch-dist-trian.pipeline`，可以使用相同的方式完成配置。\n",
    "\n",
    "<img src=\"attachment:8db60918-3f6d-4435-889e-a143002a4917.png\" width=\"600\"/>\n",
    "\n",
    "\n",
    "## 使用可视化方式提交 TFJob/PytorchJob 等任务\n",
    "\n",
    "如果您已经对 Kubeflow 支持的 TFJob, PytorchJob, MPIJob 等更加熟悉，您可以参考 `06submit-tfjob.pipeline` 使用可视化拖拽方法在工作流内提交并执行诸如 TFJob 类型的分布式任务。与以上方法的异同在于：\n",
    "\n",
    "- 提交 TFJob 方式可以利用 volcano gang scheduling 调度方式调度，而可视化方式目前使用默认调度器。\n",
    "- 提交 TFJob 方式需要考虑执行的代码如何挂载/发送到 TFJob 任务容器中，可以将"
   ]
  },
  {
   "cell_type": "code",
   "execution_count": null,
   "id": "0c7d80e3-6aad-486d-9c94-58f547ce7e2a",
   "metadata": {},
   "outputs": [],
   "source": []
  }
 ],
 "metadata": {
  "kernelspec": {
   "display_name": "Python 3 (ipykernel)",
   "language": "python",
   "name": "python3"
  },
  "language_info": {
   "codemirror_mode": {
    "name": "ipython",
    "version": 3
   },
   "file_extension": ".py",
   "mimetype": "text/x-python",
   "name": "python",
   "nbconvert_exporter": "python",
   "pygments_lexer": "ipython3",
   "version": "3.8.15"
  }
 },
 "nbformat": 4,
 "nbformat_minor": 5
}
