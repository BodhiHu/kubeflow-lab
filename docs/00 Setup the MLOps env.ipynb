{
 "cells": [
  {
   "cell_type": "markdown",
   "id": "6ef43863-3536-442c-bccc-75e0d330aa15",
   "metadata": {},
   "source": [
    "# Setup the MLOPs env\n",
    "\n",
    "## Prepare the needed files with following code"
   ]
  },
  {
   "cell_type": "code",
   "execution_count": 1,
   "id": "29a58210-2ba3-4652-95ce-13d9cf2e3d3e",
   "metadata": {},
   "outputs": [
    {
     "name": "stdout",
     "output_type": "stream",
     "text": [
      "uploading  bootstrapper.py\n",
      "uploading  pip.conf\n",
      "uploading  requirements-elyra-py37.txt\n",
      "uploading  requirements-elyra.txt\n",
      "done\n"
     ]
    }
   ],
   "source": [
    "import boto3\n",
    "import json\n",
    "import os\n",
    "\n",
    "s3 = boto3.resource(\n",
    "    \"s3\", endpoint_url=\"http://minio-service.kubeflow:9000\", aws_access_key_id=\"minio\", aws_secret_access_key=\"minio123\"\n",
    ")\n",
    "\n",
    "src_dir = \"src/elyra-scripts-3.12.0\"\n",
    "bucket = s3.Bucket(\"public\")\n",
    "if not bucket.creation_date:\n",
    "    bucket = s3.create_bucket(Bucket=\"public\")\n",
    "\n",
    "bucket_name = \"public\"\n",
    "bucket_policy = {\n",
    "    \"Version\": \"2012-10-17\",\n",
    "    \"Statement\": [\n",
    "        {\n",
    "            \"Sid\": \"AddPerm\",\n",
    "            \"Effect\": \"Allow\",\n",
    "            \"Principal\": \"*\",\n",
    "            \"Action\": [\"s3:GetObject\"],\n",
    "            \"Resource\": f\"arn:aws:s3:::{bucket_name}/*\",\n",
    "        }\n",
    "    ],\n",
    "}\n",
    "\n",
    "# Convert the policy from JSON dict to string\n",
    "bucket_policy = json.dumps(bucket_policy)\n",
    "\n",
    "# Set the new policy\n",
    "s3_client = s3.meta.client\n",
    "s3_client.put_bucket_policy(Bucket=bucket_name, Policy=bucket_policy)\n",
    "\n",
    "for fname in os.listdir(src_dir):\n",
    "    src = os.path.join(src_dir, fname)\n",
    "    print(\"uploading \", fname)\n",
    "    s3_client.upload_file(src, \"public\", fname)\n",
    "print(\"done\")"
   ]
  },
  {
   "cell_type": "markdown",
   "id": "d88fac53-b586-4ca7-a804-9eb6d10a0655",
   "metadata": {},
   "source": [
    "## 配置可视化任务提交地址\n",
    "\n",
    "使用下面命令直接创建，或者参考文档：https://elyra.readthedocs.io/en/latest/user_guide/runtime-conf.html 图形化的创建\n",
    "\n",
    "***注意：`--user_namespace kubeflow-admin-cpaas-io`根据当前用户的命名空间配置，`cos_username`, `cos_password`根据 S3 的账号密码配置***"
   ]
  },
  {
   "cell_type": "code",
   "execution_count": 1,
   "id": "f4d29bb2-3f24-4f1a-a4e4-91c7ca72ddc4",
   "metadata": {},
   "outputs": [
    {
     "name": "stderr",
     "output_type": "stream",
     "text": [
      "[I 2023-01-10 02:40:43,172.172] Upgrading runtime kfp instance 'kubeflow' to include runtime_type 'KUBEFLOW_PIPELINES'...\n"
     ]
    },
    {
     "name": "stdout",
     "output_type": "stream",
     "text": [
      "Metadata instance 'kubeflow' for schema 'kfp' has been written to: /home/jovyan/.local/share/jupyter/metadata/runtimes/kubeflow.json\n"
     ]
    }
   ],
   "source": [
    "%%bash\n",
    "elyra-metadata create runtimes \\\n",
    "       --schema_name kfp \\\n",
    "       --display_name \"kubeflow\" \\\n",
    "       --api_endpoint http://ml-pipeline.kubeflow:8888 \\\n",
    "       --user_namespace kubeflow-admin-cpaas-io \\\n",
    "       --auth_type \"KUBERNETES_SERVICE_ACCOUNT_TOKEN\" \\\n",
    "       --engine Argo \\\n",
    "       --cos_endpoint http://minio-service.kubeflow:9000 \\\n",
    "       --cos_auth_type \"USER_CREDENTIALS\" \\\n",
    "       --cos_username minio \\\n",
    "       --cos_password minio123 \\\n",
    "       --cos_bucket mlpipeline \\\n",
    "       --tags \"['kfp', 'v1.0']\""
   ]
  },
  {
   "cell_type": "markdown",
   "id": "501cc2ef-2c4a-45aa-b03d-fa25adbf7ec8",
   "metadata": {},
   "source": [
    "## 配置任务运行时镜像\n",
    "\n",
    "使用下面命令直接创建，或者参考文档：https://elyra.readthedocs.io/en/latest/user_guide/runtime-image-conf.html 图形化的创建"
   ]
  },
  {
   "cell_type": "code",
   "execution_count": 2,
   "id": "8876a4df-c975-4b04-abb7-3f4ab9d3b244",
   "metadata": {},
   "outputs": [
    {
     "name": "stdout",
     "output_type": "stream",
     "text": [
      "Metadata instance 'mlops-rt-tensorflow-250' for schema 'runtime-image' has been written to: /home/jovyan/.local/share/jupyter/metadata/runtime-images/mlops-rt-tensorflow-250.json\n",
      "Metadata instance 'mlops-rt-intel-tensorflow-250' for schema 'runtime-image' has been written to: /home/jovyan/.local/share/jupyter/metadata/runtime-images/mlops-rt-intel-tensorflow-250.json\n",
      "Metadata instance 'mlops-rt-kaniko' for schema 'runtime-image' has been written to: /home/jovyan/.local/share/jupyter/metadata/runtime-images/mlops-rt-kaniko.json\n"
     ]
    }
   ],
   "source": [
    "%%bash\n",
    "elyra-metadata create runtime-images \\\n",
    "    --name \"mlops-rt-tensorflow-250\" \\\n",
    "    --display_name \"mlops-rt-tensorflow-250\" \\\n",
    "    --description \"Alauda MLOps runtime image with tensorflow 2.5.0\" \\\n",
    "    --image_name \"build-harbor.alauda.cn/3rdparty/kubeflow/elyra-runtime-tensorflow:2.5.0\" && \\\n",
    "elyra-metadata create runtime-images \\\n",
    "    --name \"mlops-rt-intel-tensorflow-250\" \\\n",
    "    --display_name \"mlops-rt-intel-tensorflow-2.5.0\" \\\n",
    "    --description \"Alauda MLOps runtime image with intel tensorflow 2.5.0\" \\\n",
    "    --image_name \"build-harbor.alauda.cn/3rdparty/kubeflow/elyra-runtime-intel-tensorflow:2.5.0\" && \\\n",
    "elyra-metadata create runtime-images \\\n",
    "    --name \"mlops-rt-kaniko\" \\\n",
    "    --display_name \"mlops-rt-kaniko\" \\\n",
    "    --description \"Alauda MLOps runtime image kaniko image builder\" \\\n",
    "    --image_name \"build-harbor.alauda.cn/3rdparty/kubeflow/elyra-kaniko:latest\" && \\\n",
    "elyra-metadata create runtime-images \\\n",
    "    --name \"mlops-rt-tensorflow-2100\" \\\n",
    "    --display_name \"mlops-rt-tensorflow-2100\" \\\n",
    "    --description \"Alauda MLOps runtime image with tensorflow 2.10.0\" \\\n",
    "    --image_name \"build-harbor.alauda.cn/3rdparty/kubeflow/elyra-runtime-tensorflow:2.10.0\" && \\\n",
    "elyra-metadata create runtime-images \\\n",
    "    --name \"mlops-rt-pytorch\" \\\n",
    "    --display_name \"mlops-rt-pytorch\" \\\n",
    "    --description \"Alauda MLOps runtime image with pytorch 1.13.0\" \\\n",
    "    --image_name \"build-harbor.alauda.cn/3rdparty/kubeflow/elyra-runtime-pytorch:1.13.0\""
   ]
  },
  {
   "cell_type": "code",
   "execution_count": null,
   "id": "be6b8c5e-5560-4113-9303-33f98c37cbe8",
   "metadata": {},
   "outputs": [],
   "source": []
  }
 ],
 "metadata": {
  "kernelspec": {
   "display_name": "Python 3",
   "language": "python",
   "name": "python3"
  },
  "language_info": {
   "codemirror_mode": {
    "name": "ipython",
    "version": 3
   },
   "file_extension": ".py",
   "mimetype": "text/x-python",
   "name": "python",
   "nbconvert_exporter": "python",
   "pygments_lexer": "ipython3",
   "version": "3.9.6 (default, Oct 18 2022, 12:41:40) \n[Clang 14.0.0 (clang-1400.0.29.202)]"
  },
  "vscode": {
   "interpreter": {
    "hash": "31f2aee4e71d21fbe5cf8b01ff0e069b9275f58929596ceb00d14d90e3e16cd6"
   }
  }
 },
 "nbformat": 4,
 "nbformat_minor": 5
}
